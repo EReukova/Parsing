{
 "cells": [
  {
   "cell_type": "code",
   "execution_count": 20,
   "metadata": {},
   "outputs": [],
   "source": [
    "from bs4 import BeautifulSoup as bs\n",
    "import requests"
   ]
  },
  {
   "cell_type": "code",
   "execution_count": 26,
   "metadata": {},
   "outputs": [],
   "source": [
    "vac_name = 'python'\n",
    "search_depth = 2 \n",
    "analysis_pediod = 10 "
   ]
  },
  {
   "cell_type": "code",
   "execution_count": 27,
   "metadata": {},
   "outputs": [],
   "source": [
    "hh_url= 'https://superjob.ru/vacancy/search/?search_period=' + str(analysis_pediod)+ '&text' + 'vac_name' "
   ]
  },
  {
   "cell_type": "code",
   "execution_count": 28,
   "metadata": {},
   "outputs": [],
   "source": [
    "#headers = {'accept':'*/*',\n",
    "          #'user_agent':'Mozilla/5.0'}\n",
    "session = requests.session()"
   ]
  },
  {
   "cell_type": "code",
   "execution_count": 30,
   "metadata": {},
   "outputs": [
    {
     "ename": "AttributeError",
     "evalue": "'NoneType' object has no attribute 'text'",
     "output_type": "error",
     "traceback": [
      "\u001b[0;31m---------------------------------------------------------------------------\u001b[0m",
      "\u001b[0;31mAttributeError\u001b[0m                            Traceback (most recent call last)",
      "\u001b[0;32m<ipython-input-30-dac0aa80c575>\u001b[0m in \u001b[0;36m<module>\u001b[0;34m\u001b[0m\n\u001b[1;32m     11\u001b[0m \u001b[0;34m\u001b[0m\u001b[0m\n\u001b[1;32m     12\u001b[0m     \u001b[0;32mfor\u001b[0m \u001b[0mdiv\u001b[0m \u001b[0;32min\u001b[0m \u001b[0mdivs\u001b[0m\u001b[0;34m:\u001b[0m\u001b[0;34m\u001b[0m\u001b[0;34m\u001b[0m\u001b[0m\n\u001b[0;32m---> 13\u001b[0;31m         \u001b[0mtitle\u001b[0m \u001b[0;34m=\u001b[0m \u001b[0mdiv\u001b[0m\u001b[0;34m.\u001b[0m\u001b[0mfind\u001b[0m\u001b[0;34m(\u001b[0m\u001b[0;34m'a'\u001b[0m\u001b[0;34m,\u001b[0m \u001b[0mattrs\u001b[0m \u001b[0;34m=\u001b[0m \u001b[0;34m{\u001b[0m\u001b[0;34m'_3zucV'\u001b[0m\u001b[0;34m}\u001b[0m\u001b[0;34m)\u001b[0m\u001b[0;34m.\u001b[0m\u001b[0mtext\u001b[0m\u001b[0;31m#'data-qa', 'vacancy-serp__vacancy-title'}).text\u001b[0m\u001b[0;34m\u001b[0m\u001b[0;34m\u001b[0m\u001b[0m\n\u001b[0m\u001b[1;32m     14\u001b[0m         \u001b[0msalary\u001b[0m \u001b[0;34m=\u001b[0m \u001b[0mdiv\u001b[0m\u001b[0;34m.\u001b[0m\u001b[0mfind\u001b[0m\u001b[0;34m(\u001b[0m\u001b[0;34m'span'\u001b[0m\u001b[0;34m,\u001b[0m \u001b[0mattrs\u001b[0m \u001b[0;34m=\u001b[0m \u001b[0;34m{\u001b[0m\u001b[0;34m'_2g1F-'\u001b[0m\u001b[0;34m}\u001b[0m\u001b[0;34m)\u001b[0m\u001b[0;31m#'data-qa', 'vacancy-serp__vacancy-compensation'})\u001b[0m\u001b[0;34m\u001b[0m\u001b[0;34m\u001b[0m\u001b[0m\n\u001b[1;32m     15\u001b[0m \u001b[0;34m\u001b[0m\u001b[0m\n",
      "\u001b[0;31mAttributeError\u001b[0m: 'NoneType' object has no attribute 'text'"
     ]
    }
   ],
   "source": [
    "n = 0\n",
    "titles = []\n",
    "salarys = []\n",
    "hrefs = []\n",
    "\n",
    "while n < search_depth:\n",
    "    request = session.get(hh_url+'&page'+str())#, headers=headers)\n",
    "    \n",
    "    hh_html = bs(request.content, 'html.parser')\n",
    "    divs =  hh_html.findAll('div', attrs = {'_3zucV'})#'data-qa', 'vacancy-serp__vacancy'})\n",
    "    \n",
    "    for div in divs:\n",
    "        title = div.find('a', attrs = {'_2g1F-'}).text#'data-qa', 'vacancy-serp__vacancy-title'}).text\n",
    "        salary = div.find('span', attrs = {'_2g1F-'})#'data-qa', 'vacancy-serp__vacancy-compensation'})\n",
    "    \n",
    "        if salary == None:\n",
    "            salary = 'не указано'\n",
    "        else:\n",
    "            salary = div.find('span', attrs = {'_2g1F-'}).text\n",
    "            href = div.find('a', attrs = {'_2g1F-'})['href']\n",
    "    \n",
    "        title.append(title)\n",
    "        salarys.append(salary)\n",
    "        hrefs.append(href)\n",
    "    \n",
    "        print(f'Вакансия: (title)\\nПредлагаемая зарплата\\nСсылка: {href}\\n\\n')\n",
    "    \n",
    "    n += 1"
   ]
  },
  {
   "cell_type": "code",
   "execution_count": null,
   "metadata": {},
   "outputs": [],
   "source": [
    "<div class=\"_2g1F-\"><span class=\"_3mfro _2Wp8I f-test-text-company-item-salary PlM3e _2JVkc _2VHxz\">от&nbsp;<span>120&nbsp;000</span>&nbsp;<span>₽</span></span></div>"
   ]
  },
  {
   "cell_type": "code",
   "execution_count": null,
   "metadata": {},
   "outputs": [],
   "source": [
    "<div class=\"_3syPg _1_bQo _2FJA4\"><div class=\"_2g1F-\"><a class=\"icMQ_ _1QIBo f-test-link-Programmist_C++ _2JivQ _3dPok\" target=\"_blank\" href=\"/vakansii/programmist-c-32142871.html?search_id=6190b698-a628-11e9-bc6d-096cf183267d&amp;shouldHighlight=true\"><div class=\"_3mfro CuJz5 PlM3e _2JVkc _3LJqf\"><span class=\"_1rS-s\">Программист</span> C++</div></a></div><div class=\"_2g1F-\"><div class=\"_2XXYS _2cxK3\"><div class=\"_2g1F-\"><span class=\"_3mfro _3Fsn4 f-test-text-vacancy-item-company-name _9fXTd _2JVkc _3e53o\"><a class=\"icMQ_ _205Zx f-test-link-STOLIChKI Vm5jz\" target=\"_self\" href=\"/clients/stolichki-869624.html\">СТОЛИЧКИ</a></span></div><div class=\"_2g1F-\"><span class=\"_3mfro f-test-text-company-item-location _9fXTd _2JVkc _3e53o\"><span class=\"_3mfro _9fXTd _2JVkc _3e53o _3Ll36\">11:10</span> • <span><span>Москва</span></span></span></div></div></div><div class=\"_2g1F-\"><span class=\"_3mfro _2Wp8I f-test-text-company-item-salary PlM3e _2JVkc _2VHxz\">от&nbsp;<span>120&nbsp;000</span>&nbsp;<span>₽</span></span></div></div>"
   ]
  },
  {
   "cell_type": "code",
   "execution_count": null,
   "metadata": {},
   "outputs": [],
   "source": [
    "<div class=\"_2g1F-\"><a class=\"icMQ_ _1QIBo f-test-link-Programmist_C++ _2JivQ _3dPok\" target=\"_blank\" href=\"/vakansii/programmist-c-32142871.html?search_id=6190b698-a628-11e9-bc6d-096cf183267d&amp;shouldHighlight=true\"><div class=\"_3mfro CuJz5 PlM3e _2JVkc _3LJqf\"><span class=\"_1rS-s\">Программист</span> C++</div></a></div>"
   ]
  }
 ],
 "metadata": {
  "kernelspec": {
   "display_name": "Python 3",
   "language": "python",
   "name": "python3"
  },
  "language_info": {
   "codemirror_mode": {
    "name": "ipython",
    "version": 3
   },
   "file_extension": ".py",
   "mimetype": "text/x-python",
   "name": "python",
   "nbconvert_exporter": "python",
   "pygments_lexer": "ipython3",
   "version": "3.7.3"
  }
 },
 "nbformat": 4,
 "nbformat_minor": 2
}
