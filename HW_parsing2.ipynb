{
 "cells": [
  {
   "cell_type": "code",
   "execution_count": 28,
   "metadata": {},
   "outputs": [],
   "source": [
    "from bs4 import BeautifulSoup as bs\n",
    "import requests   \n",
    "import pprint"
   ]
  },
  {
   "cell_type": "code",
   "execution_count": 106,
   "metadata": {},
   "outputs": [],
   "source": [
    "def get_link (key_word_1, key_word_2):\n",
    "    link = 'https://superjob.ru/vacancy/search/?keywords' + key_word_1 + '2C%20%' + key_word_2\n",
    "    return link"
   ]
  },
  {
   "cell_type": "code",
   "execution_count": 107,
   "metadata": {},
   "outputs": [
    {
     "data": {
      "text/plain": [
       "'https://superjob.ru/vacancy/search/?keywordsРазработчик2C%20%Python'"
      ]
     },
     "execution_count": 107,
     "metadata": {},
     "output_type": "execute_result"
    }
   ],
   "source": [
    "link  = get_link('Разработчик', 'Python')\n",
    "link"
   ]
  },
  {
   "cell_type": "code",
   "execution_count": 110,
   "metadata": {},
   "outputs": [
    {
     "name": "stdout",
     "output_type": "stream",
     "text": [
      "/clients/azbuka-vkusa-74315.html\n",
      "/vakansii/menedzher-v-set-minimarketov-31246376.html\n",
      "/clients/azbuka-vkusa-74315.html\n",
      "/vacancy/search/?geo%5Bt%5D%5B0%5D=4&cluster=31246376\n",
      "/clients/fgup-pochta-rossii-14215.html\n",
      "/vakansii/specialist-v-pochtovoe-otdelenie-30436792.html\n",
      "/clients/fgup-pochta-rossii-14215.html\n",
      "/vacancy/search/?geo%5Bt%5D%5B0%5D=4&cluster=30436792\n",
      "/clients/perekrestok-4311.html\n",
      "/vakansii/pekar-32268077.html\n",
      "/clients/perekrestok-4311.html\n",
      "/vacancy/search/?geo%5Bt%5D%5B0%5D=4&cluster=32268077\n",
      "/clients/maksimus-300644.html\n",
      "/vakansii/prodavec-konsultant-v-salony-tele2-tc-32235496.html\n",
      "/clients/maksimus-300644.html\n",
      "/vacancy/search/?geo%5Bt%5D%5B0%5D=4&cluster=32235496\n",
      "/clients/azbuka-vkusa-74315.html\n",
      "/vakansii/kassir-31725209.html\n",
      "/clients/azbuka-vkusa-74315.html\n",
      "/vacancy/search/?geo%5Bt%5D%5B0%5D=4&cluster=31725209\n",
      "/clients/azbuka-vkusa-74315.html\n",
      "/vakansii/rabotnik-sklada-31286859.html\n",
      "/clients/azbuka-vkusa-74315.html\n",
      "/vacancy/search/?geo%5Bt%5D%5B0%5D=4&cluster=31286859\n",
      "/clients/fgup-pochta-rossii-14215.html\n",
      "/vakansii/operator-v-ops-31519953.html\n",
      "/clients/fgup-pochta-rossii-14215.html\n",
      "/vacancy/search/?geo%5Bt%5D%5B0%5D=4&cluster=31519953\n",
      "/vakansii/pekar-32259094.html\n",
      "/clients/oms-386052.html\n",
      "/clients/holding-obedinennye-energeticheskie-tehnologii-oent-449249.html\n",
      "/vakansii/glavnyj-buhgalter-32220517.html\n",
      "/clients/holding-obedinennye-energeticheskie-tehnologii-oent-449249.html\n",
      "/clients/azbuka-vkusa-74315.html\n",
      "/vakansii/ohrannik-31673245.html\n",
      "/clients/azbuka-vkusa-74315.html\n",
      "/vacancy/search/?geo%5Bt%5D%5B0%5D=4&cluster=31673245\n",
      "/clients/tinkoff-160502.html\n",
      "/vakansii/specialist-po-prodazhe-strahovaniya-31832497.html\n",
      "/clients/tinkoff-160502.html\n",
      "/vacancy/search/?geo%5Bt%5D%5B0%5D=4&cluster=31832497\n",
      "/clients/lenta-200736.html\n",
      "/vakansii/kassir-31937652.html\n",
      "/clients/lenta-200736.html\n",
      "/vacancy/search/?geo%5Bt%5D%5B0%5D=4&cluster=31937652\n",
      "/clients/granit-3645076.html\n",
      "/vakansii/otdelochnik-32125703.html\n",
      "/clients/granit-3645076.html\n",
      "/vacancy/search/?geo%5Bt%5D%5B0%5D=4&cluster=32125703\n",
      "/clients/granit-3645076.html\n"
     ]
    }
   ],
   "source": [
    "html = requests.get(link).text \n",
    "parsed_html = bs(html, 'lxml')#структура html - страницы\n",
    "div = parsed_html.findAll('div', attrs = {'_3zucV'})[2]\n",
    "vac = div.findAll('a', limit = 50)\n",
    "for i in range(len(vac)):\n",
    "    print (vac[i]['href'])"
   ]
  },
  {
   "cell_type": "code",
   "execution_count": null,
   "metadata": {},
   "outputs": [],
   "source": []
  },
  {
   "cell_type": "code",
   "execution_count": null,
   "metadata": {},
   "outputs": [],
   "source": []
  }
 ],
 "metadata": {
  "kernelspec": {
   "display_name": "Python 3",
   "language": "python",
   "name": "python3"
  },
  "language_info": {
   "codemirror_mode": {
    "name": "ipython",
    "version": 3
   },
   "file_extension": ".py",
   "mimetype": "text/x-python",
   "name": "python",
   "nbconvert_exporter": "python",
   "pygments_lexer": "ipython3",
   "version": "3.7.3"
  }
 },
 "nbformat": 4,
 "nbformat_minor": 2
}
